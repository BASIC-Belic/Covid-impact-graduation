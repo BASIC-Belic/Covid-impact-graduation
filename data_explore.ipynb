{
 "metadata": {
  "language_info": {
   "codemirror_mode": {
    "name": "ipython",
    "version": 3
   },
   "file_extension": ".py",
   "mimetype": "text/x-python",
   "name": "python",
   "nbconvert_exporter": "python",
   "pygments_lexer": "ipython3",
   "version": "3.7.6-final"
  },
  "orig_nbformat": 2,
  "kernelspec": {
   "name": "python3",
   "display_name": "Python 3"
  }
 },
 "nbformat": 4,
 "nbformat_minor": 2,
 "cells": [
  {
   "source": [
    "# Data Exploration Notebook"
   ],
   "cell_type": "markdown",
   "metadata": {}
  },
  {
   "source": [
    "## 1. 2005 - 2015 Graduation Rates Public School in New York\n",
    "\n",
    "Graduation rates for New York public schools in 2005 - 2015"
   ],
   "cell_type": "markdown",
   "metadata": {}
  },
  {
   "source": [
    "import pandas as pd\n",
    "\n",
    "grad_rates = pd.read_csv(\"data/Graduation Rates Public - School 2005-2015 New York/2005-2015_Graduation_Rates_Public_-_School.csv\")\n",
    "grad_rates.head()\n"
   ],
   "cell_type": "code",
   "metadata": {},
   "execution_count": 9,
   "outputs": [
    {
     "output_type": "execute_result",
     "data": {
      "text/plain": [
       "      DBN           School  Cohort Year Cohort Category  Total Cohort #  \\\n",
       "0  01M056  CORLEARS SCHOOL         2001    4 Year  June               1   \n",
       "1  01M056  CORLEARS SCHOOL         2001    5 Year  June               1   \n",
       "2  01M056  CORLEARS SCHOOL         2001          6 Year               1   \n",
       "3  01M056  CORLEARS SCHOOL         2003    4 Year  June               1   \n",
       "4  01M056  CORLEARS SCHOOL         2003    5 Year  June               1   \n",
       "\n",
       "  Total Grads # Total Grads   % of cohort Total Regents #  \\\n",
       "0             s                         s               s   \n",
       "1             s                         s               s   \n",
       "2             s                         s               s   \n",
       "3             s                         s               s   \n",
       "4             s                         s               s   \n",
       "\n",
       "  Total Regents    % of cohort Total Regents   % of grads  ...  \\\n",
       "0                            s                          s  ...   \n",
       "1                            s                          s  ...   \n",
       "2                            s                          s  ...   \n",
       "3                            s                          s  ...   \n",
       "4                            s                          s  ...   \n",
       "\n",
       "  Regents w/o Advanced  #  \\\n",
       "0                       s   \n",
       "1                       s   \n",
       "2                       s   \n",
       "3                       s   \n",
       "4                       s   \n",
       "\n",
       "  Regents w/o Advanced                          % of cohort  \\\n",
       "0                                                  s          \n",
       "1                                                  s          \n",
       "2                                                  s          \n",
       "3                                                  s          \n",
       "4                                                  s          \n",
       "\n",
       "  Regents w/o Advanced        % of grads Local  # Local   % of cohort  \\\n",
       "0                                      s        s                   s   \n",
       "1                                      s        s                   s   \n",
       "2                                      s        s                   s   \n",
       "3                                      s        s                   s   \n",
       "4                                      s        s                   s   \n",
       "\n",
       "  Local   % of grads Still Enrolled # Still Enrolled    % of cohort  \\\n",
       "0                  s                s                             s   \n",
       "1                  s                s                             s   \n",
       "2                  s                s                             s   \n",
       "3                  s                s                             s   \n",
       "4                  s                s                             s   \n",
       "\n",
       "  Dropped Out  # Dropped Out    % of cohort  \n",
       "0              s                          s  \n",
       "1              s                          s  \n",
       "2              s                          s  \n",
       "3              s                          s  \n",
       "4              s                          s  \n",
       "\n",
       "[5 rows x 23 columns]"
      ],
      "text/html": "<div>\n<style scoped>\n    .dataframe tbody tr th:only-of-type {\n        vertical-align: middle;\n    }\n\n    .dataframe tbody tr th {\n        vertical-align: top;\n    }\n\n    .dataframe thead th {\n        text-align: right;\n    }\n</style>\n<table border=\"1\" class=\"dataframe\">\n  <thead>\n    <tr style=\"text-align: right;\">\n      <th></th>\n      <th>DBN</th>\n      <th>School</th>\n      <th>Cohort Year</th>\n      <th>Cohort Category</th>\n      <th>Total Cohort #</th>\n      <th>Total Grads #</th>\n      <th>Total Grads   % of cohort</th>\n      <th>Total Regents #</th>\n      <th>Total Regents    % of cohort</th>\n      <th>Total Regents   % of grads</th>\n      <th>...</th>\n      <th>Regents w/o Advanced  #</th>\n      <th>Regents w/o Advanced                          % of cohort</th>\n      <th>Regents w/o Advanced        % of grads</th>\n      <th>Local  #</th>\n      <th>Local   % of cohort</th>\n      <th>Local   % of grads</th>\n      <th>Still Enrolled #</th>\n      <th>Still Enrolled    % of cohort</th>\n      <th>Dropped Out  #</th>\n      <th>Dropped Out    % of cohort</th>\n    </tr>\n  </thead>\n  <tbody>\n    <tr>\n      <th>0</th>\n      <td>01M056</td>\n      <td>CORLEARS SCHOOL</td>\n      <td>2001</td>\n      <td>4 Year  June</td>\n      <td>1</td>\n      <td>s</td>\n      <td>s</td>\n      <td>s</td>\n      <td>s</td>\n      <td>s</td>\n      <td>...</td>\n      <td>s</td>\n      <td>s</td>\n      <td>s</td>\n      <td>s</td>\n      <td>s</td>\n      <td>s</td>\n      <td>s</td>\n      <td>s</td>\n      <td>s</td>\n      <td>s</td>\n    </tr>\n    <tr>\n      <th>1</th>\n      <td>01M056</td>\n      <td>CORLEARS SCHOOL</td>\n      <td>2001</td>\n      <td>5 Year  June</td>\n      <td>1</td>\n      <td>s</td>\n      <td>s</td>\n      <td>s</td>\n      <td>s</td>\n      <td>s</td>\n      <td>...</td>\n      <td>s</td>\n      <td>s</td>\n      <td>s</td>\n      <td>s</td>\n      <td>s</td>\n      <td>s</td>\n      <td>s</td>\n      <td>s</td>\n      <td>s</td>\n      <td>s</td>\n    </tr>\n    <tr>\n      <th>2</th>\n      <td>01M056</td>\n      <td>CORLEARS SCHOOL</td>\n      <td>2001</td>\n      <td>6 Year</td>\n      <td>1</td>\n      <td>s</td>\n      <td>s</td>\n      <td>s</td>\n      <td>s</td>\n      <td>s</td>\n      <td>...</td>\n      <td>s</td>\n      <td>s</td>\n      <td>s</td>\n      <td>s</td>\n      <td>s</td>\n      <td>s</td>\n      <td>s</td>\n      <td>s</td>\n      <td>s</td>\n      <td>s</td>\n    </tr>\n    <tr>\n      <th>3</th>\n      <td>01M056</td>\n      <td>CORLEARS SCHOOL</td>\n      <td>2003</td>\n      <td>4 Year  June</td>\n      <td>1</td>\n      <td>s</td>\n      <td>s</td>\n      <td>s</td>\n      <td>s</td>\n      <td>s</td>\n      <td>...</td>\n      <td>s</td>\n      <td>s</td>\n      <td>s</td>\n      <td>s</td>\n      <td>s</td>\n      <td>s</td>\n      <td>s</td>\n      <td>s</td>\n      <td>s</td>\n      <td>s</td>\n    </tr>\n    <tr>\n      <th>4</th>\n      <td>01M056</td>\n      <td>CORLEARS SCHOOL</td>\n      <td>2003</td>\n      <td>5 Year  June</td>\n      <td>1</td>\n      <td>s</td>\n      <td>s</td>\n      <td>s</td>\n      <td>s</td>\n      <td>s</td>\n      <td>...</td>\n      <td>s</td>\n      <td>s</td>\n      <td>s</td>\n      <td>s</td>\n      <td>s</td>\n      <td>s</td>\n      <td>s</td>\n      <td>s</td>\n      <td>s</td>\n      <td>s</td>\n    </tr>\n  </tbody>\n</table>\n<p>5 rows × 23 columns</p>\n</div>"
     },
     "metadata": {},
     "execution_count": 9
    }
   ]
  },
  {
   "cell_type": "code",
   "execution_count": 10,
   "metadata": {
    "tags": []
   },
   "outputs": [
    {
     "output_type": "stream",
     "name": "stdout",
     "text": [
      "Categories:  ['4 Year  June' '5 Year  June' '6 Year' '4 Year August' '5 Year August']\n"
     ]
    }
   ],
   "source": [
    "cohort_categories = grad_rates['Cohort Category'].unique()\n",
    "school_names = grad_rates['School'].unique()\n",
    "print(\"Categories: \", cohort_categories)\n"
   ]
  },
  {
   "cell_type": "code",
   "execution_count": 11,
   "metadata": {
    "tags": []
   },
   "outputs": [
    {
     "output_type": "stream",
     "name": "stdout",
     "text": [
      "school_names: ['CORLEARS SCHOOL' 'HENRY STREET SCHOOL FOR INTERNATIONAL STUDIES'\n 'UNIVERSITY NEIGHBORHOOD HIGH SCHOOL' 'EAST SIDE COMMUNITY SCHOOL'\n 'FORSYTH SATELLITE ACADEMY' 'MARTA VALLE HIGH SCHOOL'\n 'LOWER EAST SIDE PREPARATORY HIGH SCHOOL'\n 'NEW EXPLORATIONS INTO SCIENCE, TECHNOLOGY AND MATH HIG'\n 'CASCADES HIGH SCHOOL' 'BARD HIGH SCHOOL EARLY COLLEGE'\n '47 THE AMERICAN SIGN LANGUAGE AND ENGLISH SECONDARY SC'\n 'FOOD AND FINANCE HIGH SCHOOL' 'ESSEX STREET ACADEMY'\n 'HIGH SCHOOL OF HOSPITALITY MANAGEMENT' 'PACE HIGH SCHOOL'\n 'URBAN ASSEMBLY SCHOOL OF DESIGN AND CONSTRUCTION, THE'\n 'FACING HISTORY SCHOOL, THE'\n 'URBAN ASSEMBLY ACADEMY OF GOVERNMENT AND LAW, THE'\n 'LOWER MANHATTAN ARTS ACADEMY'\n 'JAMES BALDWIN SCHOOL, THE: A SCHOOL FOR EXPEDITIONARY']\n"
     ]
    }
   ],
   "source": [
    "print(\"school_names:\", school_names[:20]) # returns the top 20 from the ndarray"
   ]
  }
 ]
}