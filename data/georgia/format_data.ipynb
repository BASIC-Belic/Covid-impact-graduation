{
 "cells": [
  {
   "cell_type": "markdown",
   "metadata": {},
   "source": [
    "# Georgia Student Data\n",
    "School Year:   \n",
    "2012-Present Year"
   ]
  },
  {
   "cell_type": "code",
   "execution_count": null,
   "metadata": {},
   "outputs": [],
   "source": [
    "import os\n",
    "import glob\n",
    "import datetime\n",
    "import pandas as pd\n",
    "\n",
    "valid_columns = [\"State\", \"County\",\"School District\", \"School Name\", \"Grade #\",\t\"School Year\"\t\n",
    "           \"Ethnicity/Race\",\"Economically Disadvantaged\",\t\"ESL\",\t\"Disability\",\t\"Migrant\",\t\n",
    "           \"Student/Teacher Ratio\",\t\"Enrollment Rate\", \"Dropout Rate\"]\n",
    "\n",
    "valid_years = list(range(2012,datetime.datetime.today().year))\n",
    "valid_summaries = {\"ss\": \"Statewide Totals\" , \"sr\": \"Statewide Region Totals\", \"so\": \"Statewide County Totals\",\n",
    "\"sd\": \"Statewide District Totals\", \"sc\":\"Statewide Campus Totals\", \"rr\": \"Selected Regionwide Totals\", \"ro\":\"Selected Regionwide County Totals\",\n",
    "\"rd\": \"Selected Regionwide District Totals\", \"rc\": \"Selected Regionwide Campus Totals\", \"oo\":\"Selected Countywide Totals\", \"od\":\"Selected Countywide District Totals\",\n",
    "\"oc\": \"Selected Countywide Campus Totals\", \"id\": \"Selected District Totals using district number\",\n",
    " \"dd\": \"Selected District Totals using district name\", \"ic\":\"Selected Campus Totals using district number\",\n",
    " \"ic\": \"Selected Campus Totals using district number\", \"dc\": \"Selected Campus Totals using district name\",\n",
    " \"nc\": \"Selected Campus Totals using campus number\", \"cc\":\"Selected Campus Totals using campus name\"}\n",
    "valid_groupings = [\"Ethnicity\",  \"Gender\", \"Grade\", \"Gender and Ethnicity\", \"Grade and Ethnicity\", \"Grade and Gender\"]"
   ]
  },
  {
   "cell_type": "markdown",
   "metadata": {},
   "source": [
    "# Enrollment Reports\n",
    "\n",
    "School Year:   \n",
    "2012-Present Year"
   ]
  },
  {
   "cell_type": "code",
   "execution_count": null,
   "metadata": {},
   "outputs": [],
   "source": [
    "all_years = [] \n",
    "\n",
    "for year in valid_years: \n",
    "    datapath = \"{}/{}\".format(year, valid_summaries[\"so\"])\n",
    "    filenames = glob.glob( os.path.join(datapath, \"*.csv\"))\n",
    "    dfs = (pd.read_csv(files, low_memory=False) for files in filenames)\n",
    "    all_years.append(pd.concat(dfs, ignore_index=True, sort=True))\n",
    "\n",
    "all_years[0].head()"
   ]
  }
 ],
 "metadata": {},
 "nbformat": 4,
 "nbformat_minor": 0
}
