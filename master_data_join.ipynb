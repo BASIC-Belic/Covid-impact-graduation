{
 "metadata": {
  "language_info": {
   "codemirror_mode": {
    "name": "ipython",
    "version": 3
   },
   "file_extension": ".py",
   "mimetype": "text/x-python",
   "name": "python",
   "nbconvert_exporter": "python",
   "pygments_lexer": "ipython3",
   "version": "3.7.6-final"
  },
  "orig_nbformat": 2,
  "kernelspec": {
   "name": "python3",
   "display_name": "Python 3"
  }
 },
 "nbformat": 4,
 "nbformat_minor": 2,
 "cells": [
  {
   "cell_type": "code",
   "execution_count": null,
   "metadata": {},
   "outputs": [],
   "source": [
    "# Master Join Data Set"
   ]
  },
  {
   "cell_type": "code",
   "execution_count": 3,
   "metadata": {},
   "outputs": [
    {
     "output_type": "execute_result",
     "data": {
      "text/plain": [
       "         YEAR  GENDER             GRADE  ENROLLMENT  state\n",
       "0   2019-2020  Female   Early Education        7885  Texas\n",
       "1   2019-2020    Male   Early Education       17998  Texas\n",
       "2   2019-2020  Female  Pre-kindergarten      124575  Texas\n",
       "3   2019-2020    Male  Pre-kindergarten      124651  Texas\n",
       "4   2019-2020  Female      Kindergarten      187020  Texas\n",
       "5   2019-2020    Male      Kindergarten      197094  Texas\n",
       "6   2019-2020  Female           Grade 1      190986  Texas\n",
       "7   2019-2020    Male           Grade 1      200463  Texas\n",
       "8   2019-2020  Female           Grade 2      189684  Texas\n",
       "9   2019-2020    Male           Grade 2      198991  Texas\n",
       "10  2019-2020  Female           Grade 3      191168  Texas\n",
       "11  2019-2020    Male           Grade 3      200627  Texas\n",
       "12  2019-2020  Female           Grade 4      195070  Texas\n",
       "13  2019-2020    Male           Grade 4      205041  Texas\n",
       "14  2019-2020  Female           Grade 5      203725  Texas\n",
       "15  2019-2020    Male           Grade 5      213719  Texas\n",
       "16  2019-2020  Female           Grade 6      206059  Texas\n",
       "17  2019-2020    Male           Grade 6      216681  Texas\n",
       "18  2019-2020  Female           Grade 7      205885  Texas\n",
       "19  2019-2020    Male           Grade 7      217660  Texas\n",
       "20  2019-2020  Female           Grade 8      200530  Texas\n",
       "21  2019-2020    Male           Grade 8      210742  Texas\n",
       "22  2019-2020  Female           Grade 9      214523  Texas\n",
       "23  2019-2020    Male           Grade 9      234599  Texas\n",
       "24  2019-2020  Female          Grade 10      198922  Texas\n",
       "25  2019-2020    Male          Grade 10      208122  Texas\n",
       "26  2019-2020  Female          Grade 11      186678  Texas\n",
       "27  2019-2020    Male          Grade 11      190530  Texas\n",
       "28  2019-2020  Female          Grade 12      175909  Texas\n",
       "29  2019-2020    Male          Grade 12      178403  Texas"
      ],
      "text/html": "<div>\n<style scoped>\n    .dataframe tbody tr th:only-of-type {\n        vertical-align: middle;\n    }\n\n    .dataframe tbody tr th {\n        vertical-align: top;\n    }\n\n    .dataframe thead th {\n        text-align: right;\n    }\n</style>\n<table border=\"1\" class=\"dataframe\">\n  <thead>\n    <tr style=\"text-align: right;\">\n      <th></th>\n      <th>YEAR</th>\n      <th>GENDER</th>\n      <th>GRADE</th>\n      <th>ENROLLMENT</th>\n      <th>state</th>\n    </tr>\n  </thead>\n  <tbody>\n    <tr>\n      <th>0</th>\n      <td>2019-2020</td>\n      <td>Female</td>\n      <td>Early Education</td>\n      <td>7885</td>\n      <td>Texas</td>\n    </tr>\n    <tr>\n      <th>1</th>\n      <td>2019-2020</td>\n      <td>Male</td>\n      <td>Early Education</td>\n      <td>17998</td>\n      <td>Texas</td>\n    </tr>\n    <tr>\n      <th>2</th>\n      <td>2019-2020</td>\n      <td>Female</td>\n      <td>Pre-kindergarten</td>\n      <td>124575</td>\n      <td>Texas</td>\n    </tr>\n    <tr>\n      <th>3</th>\n      <td>2019-2020</td>\n      <td>Male</td>\n      <td>Pre-kindergarten</td>\n      <td>124651</td>\n      <td>Texas</td>\n    </tr>\n    <tr>\n      <th>4</th>\n      <td>2019-2020</td>\n      <td>Female</td>\n      <td>Kindergarten</td>\n      <td>187020</td>\n      <td>Texas</td>\n    </tr>\n    <tr>\n      <th>5</th>\n      <td>2019-2020</td>\n      <td>Male</td>\n      <td>Kindergarten</td>\n      <td>197094</td>\n      <td>Texas</td>\n    </tr>\n    <tr>\n      <th>6</th>\n      <td>2019-2020</td>\n      <td>Female</td>\n      <td>Grade 1</td>\n      <td>190986</td>\n      <td>Texas</td>\n    </tr>\n    <tr>\n      <th>7</th>\n      <td>2019-2020</td>\n      <td>Male</td>\n      <td>Grade 1</td>\n      <td>200463</td>\n      <td>Texas</td>\n    </tr>\n    <tr>\n      <th>8</th>\n      <td>2019-2020</td>\n      <td>Female</td>\n      <td>Grade 2</td>\n      <td>189684</td>\n      <td>Texas</td>\n    </tr>\n    <tr>\n      <th>9</th>\n      <td>2019-2020</td>\n      <td>Male</td>\n      <td>Grade 2</td>\n      <td>198991</td>\n      <td>Texas</td>\n    </tr>\n    <tr>\n      <th>10</th>\n      <td>2019-2020</td>\n      <td>Female</td>\n      <td>Grade 3</td>\n      <td>191168</td>\n      <td>Texas</td>\n    </tr>\n    <tr>\n      <th>11</th>\n      <td>2019-2020</td>\n      <td>Male</td>\n      <td>Grade 3</td>\n      <td>200627</td>\n      <td>Texas</td>\n    </tr>\n    <tr>\n      <th>12</th>\n      <td>2019-2020</td>\n      <td>Female</td>\n      <td>Grade 4</td>\n      <td>195070</td>\n      <td>Texas</td>\n    </tr>\n    <tr>\n      <th>13</th>\n      <td>2019-2020</td>\n      <td>Male</td>\n      <td>Grade 4</td>\n      <td>205041</td>\n      <td>Texas</td>\n    </tr>\n    <tr>\n      <th>14</th>\n      <td>2019-2020</td>\n      <td>Female</td>\n      <td>Grade 5</td>\n      <td>203725</td>\n      <td>Texas</td>\n    </tr>\n    <tr>\n      <th>15</th>\n      <td>2019-2020</td>\n      <td>Male</td>\n      <td>Grade 5</td>\n      <td>213719</td>\n      <td>Texas</td>\n    </tr>\n    <tr>\n      <th>16</th>\n      <td>2019-2020</td>\n      <td>Female</td>\n      <td>Grade 6</td>\n      <td>206059</td>\n      <td>Texas</td>\n    </tr>\n    <tr>\n      <th>17</th>\n      <td>2019-2020</td>\n      <td>Male</td>\n      <td>Grade 6</td>\n      <td>216681</td>\n      <td>Texas</td>\n    </tr>\n    <tr>\n      <th>18</th>\n      <td>2019-2020</td>\n      <td>Female</td>\n      <td>Grade 7</td>\n      <td>205885</td>\n      <td>Texas</td>\n    </tr>\n    <tr>\n      <th>19</th>\n      <td>2019-2020</td>\n      <td>Male</td>\n      <td>Grade 7</td>\n      <td>217660</td>\n      <td>Texas</td>\n    </tr>\n    <tr>\n      <th>20</th>\n      <td>2019-2020</td>\n      <td>Female</td>\n      <td>Grade 8</td>\n      <td>200530</td>\n      <td>Texas</td>\n    </tr>\n    <tr>\n      <th>21</th>\n      <td>2019-2020</td>\n      <td>Male</td>\n      <td>Grade 8</td>\n      <td>210742</td>\n      <td>Texas</td>\n    </tr>\n    <tr>\n      <th>22</th>\n      <td>2019-2020</td>\n      <td>Female</td>\n      <td>Grade 9</td>\n      <td>214523</td>\n      <td>Texas</td>\n    </tr>\n    <tr>\n      <th>23</th>\n      <td>2019-2020</td>\n      <td>Male</td>\n      <td>Grade 9</td>\n      <td>234599</td>\n      <td>Texas</td>\n    </tr>\n    <tr>\n      <th>24</th>\n      <td>2019-2020</td>\n      <td>Female</td>\n      <td>Grade 10</td>\n      <td>198922</td>\n      <td>Texas</td>\n    </tr>\n    <tr>\n      <th>25</th>\n      <td>2019-2020</td>\n      <td>Male</td>\n      <td>Grade 10</td>\n      <td>208122</td>\n      <td>Texas</td>\n    </tr>\n    <tr>\n      <th>26</th>\n      <td>2019-2020</td>\n      <td>Female</td>\n      <td>Grade 11</td>\n      <td>186678</td>\n      <td>Texas</td>\n    </tr>\n    <tr>\n      <th>27</th>\n      <td>2019-2020</td>\n      <td>Male</td>\n      <td>Grade 11</td>\n      <td>190530</td>\n      <td>Texas</td>\n    </tr>\n    <tr>\n      <th>28</th>\n      <td>2019-2020</td>\n      <td>Female</td>\n      <td>Grade 12</td>\n      <td>175909</td>\n      <td>Texas</td>\n    </tr>\n    <tr>\n      <th>29</th>\n      <td>2019-2020</td>\n      <td>Male</td>\n      <td>Grade 12</td>\n      <td>178403</td>\n      <td>Texas</td>\n    </tr>\n  </tbody>\n</table>\n</div>"
     },
     "metadata": {},
     "execution_count": 3
    }
   ],
   "source": [
    "# Merged Enrollment (State) \n",
    "# Read year 2020 \n",
    "import pandas as pd\n",
    "texas_enrollment_2020 = pd.read_csv(\"data/texas/2020/Statewide Totals/Grade and Gender/Enrollment Report_Statewide_Grade_Gender_2019-2020.csv\")\n",
    "texas_enrollment_2020[\"state\"] =\"Texas\"\n",
    "\n",
    "\n",
    "# Do all of our data sets have County? \n",
    "\n",
    "\n",
    "\n",
    "texas_enrollment_2020"
   ]
  },
  {
   "source": [
    "# Data Set\n"
   ],
   "cell_type": "markdown",
   "metadata": {}
  },
  {
   "cell_type": "code",
   "execution_count": null,
   "metadata": {},
   "outputs": [],
   "source": [
    "# Covid Cases (by count)"
   ]
  },
  {
   "cell_type": "code",
   "execution_count": null,
   "metadata": {},
   "outputs": [],
   "source": [
    "# Merge with covid data"
   ]
  },
  {
   "cell_type": "code",
   "execution_count": null,
   "metadata": {},
   "outputs": [],
   "source": [
    "# Not Merged with Covid Data \n"
   ]
  }
 ]
}