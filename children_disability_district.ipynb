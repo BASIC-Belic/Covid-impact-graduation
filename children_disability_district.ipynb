{
 "metadata": {
  "language_info": {
   "codemirror_mode": {
    "name": "ipython",
    "version": 3
   },
   "file_extension": ".py",
   "mimetype": "text/x-python",
   "name": "python",
   "nbconvert_exporter": "python",
   "pygments_lexer": "ipython3",
   "version": "3.7.6-final"
  },
  "orig_nbformat": 2,
  "kernelspec": {
   "name": "python3",
   "display_name": "Python 3"
  }
 },
 "nbformat": 4,
 "nbformat_minor": 2,
 "cells": [
  {
   "cell_type": "code",
   "execution_count": 9,
   "metadata": {},
   "outputs": [
    {
     "output_type": "execute_result",
     "data": {
      "text/plain": [
       "  SCHOOL_YEAR  FIPST STATENAME  ST                LEA_NAME  STATE_AGENCY_NO  \\\n",
       "0   2018-2019      1   ALABAMA  AL  Alabama Youth Services                1   \n",
       "1   2018-2019      1   ALABAMA  AL        Albertville City                1   \n",
       "2   2018-2019      1   ALABAMA  AL         Marshall County                1   \n",
       "3   2018-2019      1   ALABAMA  AL             Hoover City                1   \n",
       "4   2018-2019      1   ALABAMA  AL            Madison City                1   \n",
       "\n",
       "   UNION ST_LEAID   LEAID  IDEA_COUNT  DMS_FLAG  \n",
       "0    NaN   AL-210  100002        36.0  Reported  \n",
       "1    NaN   AL-101  100005       443.0  Reported  \n",
       "2    NaN   AL-048  100006       845.0  Reported  \n",
       "3    NaN   AL-158  100007      1316.0  Reported  \n",
       "4    NaN   AL-169  100008      1277.0  Reported  "
      ],
      "text/html": "<div>\n<style scoped>\n    .dataframe tbody tr th:only-of-type {\n        vertical-align: middle;\n    }\n\n    .dataframe tbody tr th {\n        vertical-align: top;\n    }\n\n    .dataframe thead th {\n        text-align: right;\n    }\n</style>\n<table border=\"1\" class=\"dataframe\">\n  <thead>\n    <tr style=\"text-align: right;\">\n      <th></th>\n      <th>SCHOOL_YEAR</th>\n      <th>FIPST</th>\n      <th>STATENAME</th>\n      <th>ST</th>\n      <th>LEA_NAME</th>\n      <th>STATE_AGENCY_NO</th>\n      <th>UNION</th>\n      <th>ST_LEAID</th>\n      <th>LEAID</th>\n      <th>IDEA_COUNT</th>\n      <th>DMS_FLAG</th>\n    </tr>\n  </thead>\n  <tbody>\n    <tr>\n      <th>0</th>\n      <td>2018-2019</td>\n      <td>1</td>\n      <td>ALABAMA</td>\n      <td>AL</td>\n      <td>Alabama Youth Services</td>\n      <td>1</td>\n      <td>NaN</td>\n      <td>AL-210</td>\n      <td>100002</td>\n      <td>36.0</td>\n      <td>Reported</td>\n    </tr>\n    <tr>\n      <th>1</th>\n      <td>2018-2019</td>\n      <td>1</td>\n      <td>ALABAMA</td>\n      <td>AL</td>\n      <td>Albertville City</td>\n      <td>1</td>\n      <td>NaN</td>\n      <td>AL-101</td>\n      <td>100005</td>\n      <td>443.0</td>\n      <td>Reported</td>\n    </tr>\n    <tr>\n      <th>2</th>\n      <td>2018-2019</td>\n      <td>1</td>\n      <td>ALABAMA</td>\n      <td>AL</td>\n      <td>Marshall County</td>\n      <td>1</td>\n      <td>NaN</td>\n      <td>AL-048</td>\n      <td>100006</td>\n      <td>845.0</td>\n      <td>Reported</td>\n    </tr>\n    <tr>\n      <th>3</th>\n      <td>2018-2019</td>\n      <td>1</td>\n      <td>ALABAMA</td>\n      <td>AL</td>\n      <td>Hoover City</td>\n      <td>1</td>\n      <td>NaN</td>\n      <td>AL-158</td>\n      <td>100007</td>\n      <td>1316.0</td>\n      <td>Reported</td>\n    </tr>\n    <tr>\n      <th>4</th>\n      <td>2018-2019</td>\n      <td>1</td>\n      <td>ALABAMA</td>\n      <td>AL</td>\n      <td>Madison City</td>\n      <td>1</td>\n      <td>NaN</td>\n      <td>AL-169</td>\n      <td>100008</td>\n      <td>1277.0</td>\n      <td>Reported</td>\n    </tr>\n  </tbody>\n</table>\n</div>"
     },
     "metadata": {},
     "execution_count": 9
    }
   ],
   "source": [
    "# Read children with disability Data 2015 - 2019 school years\n",
    "import pandas as pd\n",
    "import glob\n",
    "\n",
    "path = \"data/children-with-disabilities\"  \n",
    "all_files = glob.glob(os.path.join(path, \"*.csv\")) \n",
    "\n",
    "df_from_each_file = (pd.read_csv(f) for f in all_files)\n",
    "\n",
    "concatenated_df   = pd.concat(df_from_each_file, ignore_index=True)\n",
    "concatenated_df.head()"
   ]
  },
  {
   "cell_type": "code",
   "execution_count": 23,
   "metadata": {},
   "outputs": [
    {
     "output_type": "execute_result",
     "data": {
      "text/plain": [
       "                   sum        mean       max\n",
       "SCHOOL_YEAR                                 \n",
       "2016-2017    6882239.0  414.817612  118882.0\n",
       "2017-2018    7066596.0  428.876373  105827.0\n",
       "2018-2019    7236536.0  417.307883  103137.0"
      ],
      "text/html": "<div>\n<style scoped>\n    .dataframe tbody tr th:only-of-type {\n        vertical-align: middle;\n    }\n\n    .dataframe tbody tr th {\n        vertical-align: top;\n    }\n\n    .dataframe thead th {\n        text-align: right;\n    }\n</style>\n<table border=\"1\" class=\"dataframe\">\n  <thead>\n    <tr style=\"text-align: right;\">\n      <th></th>\n      <th>sum</th>\n      <th>mean</th>\n      <th>max</th>\n    </tr>\n    <tr>\n      <th>SCHOOL_YEAR</th>\n      <th></th>\n      <th></th>\n      <th></th>\n    </tr>\n  </thead>\n  <tbody>\n    <tr>\n      <th>2016-2017</th>\n      <td>6882239.0</td>\n      <td>414.817612</td>\n      <td>118882.0</td>\n    </tr>\n    <tr>\n      <th>2017-2018</th>\n      <td>7066596.0</td>\n      <td>428.876373</td>\n      <td>105827.0</td>\n    </tr>\n    <tr>\n      <th>2018-2019</th>\n      <td>7236536.0</td>\n      <td>417.307883</td>\n      <td>103137.0</td>\n    </tr>\n  </tbody>\n</table>\n</div>"
     },
     "metadata": {},
     "execution_count": 23
    }
   ],
   "source": [
    "# Group by years to get counts:\n",
    "concatenated_df.groupby('SCHOOL_YEAR')[\"IDEA_COUNT\"].agg(['sum', 'mean', 'max'])\n",
    "# Warning: Puerto Rico is being included as a seperating District thus creating an outlier!"
   ]
  },
  {
   "cell_type": "code",
   "execution_count": 26,
   "metadata": {},
   "outputs": [
    {
     "output_type": "execute_result",
     "data": {
      "text/plain": [
       "                   sum        mean      max\n",
       "SCHOOL_YEAR                                \n",
       "2016-2017    6763357.0  407.676733  85751.0\n",
       "2017-2018    6960769.0  422.479303  85672.0\n",
       "2018-2019    7133399.0  411.384025  72355.0"
      ],
      "text/html": "<div>\n<style scoped>\n    .dataframe tbody tr th:only-of-type {\n        vertical-align: middle;\n    }\n\n    .dataframe tbody tr th {\n        vertical-align: top;\n    }\n\n    .dataframe thead th {\n        text-align: right;\n    }\n</style>\n<table border=\"1\" class=\"dataframe\">\n  <thead>\n    <tr style=\"text-align: right;\">\n      <th></th>\n      <th>sum</th>\n      <th>mean</th>\n      <th>max</th>\n    </tr>\n    <tr>\n      <th>SCHOOL_YEAR</th>\n      <th></th>\n      <th></th>\n      <th></th>\n    </tr>\n  </thead>\n  <tbody>\n    <tr>\n      <th>2016-2017</th>\n      <td>6763357.0</td>\n      <td>407.676733</td>\n      <td>85751.0</td>\n    </tr>\n    <tr>\n      <th>2017-2018</th>\n      <td>6960769.0</td>\n      <td>422.479303</td>\n      <td>85672.0</td>\n    </tr>\n    <tr>\n      <th>2018-2019</th>\n      <td>7133399.0</td>\n      <td>411.384025</td>\n      <td>72355.0</td>\n    </tr>\n  </tbody>\n</table>\n</div>"
     },
     "metadata": {},
     "execution_count": 26
    }
   ],
   "source": [
    "# Lets remove Puerto Rico for now\n",
    "filter = [\"PUERTO RICO DEPARTMENT OF EDUCATION\"]\n",
    "concatenated_df_no_PR = concatenated_df[concatenated_df['LEA_NAME']!=\"PUERTO RICO DEPARTMENT OF EDUCATION\"]\n",
    "concatenated_df_no_PR.groupby('SCHOOL_YEAR')[\"IDEA_COUNT\"].agg(['sum', 'mean', 'max'])"
   ]
  },
  {
   "source": [
    "I was concerned that 7 million was an error with the data but there are around 7 million disabled students in the USA. That is around 14% of students..and it looks like its trending up - I wonder how these students are being affected by covid. \n",
    "\n",
    "https://www.pewresearch.org/fact-tank/2020/04/23/as-schools-shift-to-online-learning-amid-pandemic-heres-what-we-know-about-disabled-students-in-the-u-s/#:~:text=1%20The%20nearly%207%20million,for%20which%20data%20is%20available.\n",
    "\n",
    "The nearly 7 million disabled students in the U.S. make up 14% of national public school enrollment, according to data from the National Center for Education Statistics. This group has grown 11% between 2000-01 (when there were 6.3 million students) and 2017-18, the most recent year for which data is available.Apr 23, 2020"
   ],
   "cell_type": "markdown",
   "metadata": {}
  }
 ]
}