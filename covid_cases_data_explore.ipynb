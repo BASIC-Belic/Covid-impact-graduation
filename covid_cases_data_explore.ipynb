{
 "metadata": {
  "language_info": {
   "codemirror_mode": {
    "name": "ipython",
    "version": 3
   },
   "file_extension": ".py",
   "mimetype": "text/x-python",
   "name": "python",
   "nbconvert_exporter": "python",
   "pygments_lexer": "ipython3",
   "version": 3
  },
  "orig_nbformat": 2
 },
 "nbformat": 4,
 "nbformat_minor": 2,
 "cells": [
  {
   "source": [
    "## Place Holder for Covid Cases Data Exploration\n",
    "There vast number of datasets on covid, so I will leave this as a placeholder until we make a decision on which direction to take with this. "
   ],
   "cell_type": "markdown",
   "metadata": {}
  }
 ]
}