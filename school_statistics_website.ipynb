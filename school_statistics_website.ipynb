{
 "metadata": {
  "language_info": {
   "codemirror_mode": {
    "name": "ipython",
    "version": 3
   },
   "file_extension": ".py",
   "mimetype": "text/x-python",
   "name": "python",
   "nbconvert_exporter": "python",
   "pygments_lexer": "ipython3",
   "version": "3.8.5-final"
  },
  "orig_nbformat": 2,
  "kernelspec": {
   "name": "python3",
   "display_name": "Python 3",
   "language": "python"
  }
 },
 "nbformat": 4,
 "nbformat_minor": 2,
 "cells": [
  {
   "source": [
    "#  U.S. High School Schools analysis\n",
    "  \n",
    "High school data analysis dashboards.  \n",
    "\n",
    "------\n",
    "\n",
    "We set out to solve the following questions.\n",
    "\n",
    "- How does non instructional spend correlate w/ ethnic/racial subgroups (Hispanic,  Black, Asian, American Native, White)?\n",
    "\n",
    "\n",
    "- How does  instructional spend correlate w/ ethnic/racial subgroups (Hispanic,  Black, Asian, American Native, White)? \n",
    "\n",
    "\n",
    "- School racial composition--how has it changed over the years? National, then for three or four sates. \n",
    "\n",
    "- How has total spending changed over the years? National, then for three or four sates. \n",
    "\n",
    "- How have the poverty ratios in school Age children changed over time? How are the different states Trending? \n",
    "    \n",
    "\n",
    "# Dashboards\n",
    "\n",
    "- [Poverty Ratio of School Age Children from 1995 - 2018](03-educationdata-dashboards/poverty_estimates.ipynb) - poverty ratios of school aged children from 1995 - 2018 broken down by State.\n",
    "\n",
    "- [Total revenue 'rev_total' (fed, state, local) for all states by year](03-educationdata-dashboards/finance_load_data.ipynb) - total revenue 'rev_total' (fed, state, local) for all states by year starting at origin\n",
    "\n",
    "- [Instructional Spend Dashboard](03-educationdata-dashboards/transformation_instructional_spend.ipynb)  \n",
    "\n",
    "\n",
    "# Data Sources\n",
    "\n",
    "- [Data Exraction Notebook](https://github.com/apaniagua6/School-Data-Extract) - Extracted data from  https://educationdata.urban.org/ \n",
    "\n",
    "\n"
   ],
   "cell_type": "markdown",
   "metadata": {}
  }
 ]
}