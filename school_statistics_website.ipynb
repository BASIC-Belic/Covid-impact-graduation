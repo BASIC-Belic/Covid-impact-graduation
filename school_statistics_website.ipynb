{
 "metadata": {
  "language_info": {
   "codemirror_mode": {
    "name": "ipython",
    "version": 3
   },
   "file_extension": ".py",
   "mimetype": "text/x-python",
   "name": "python",
   "nbconvert_exporter": "python",
   "pygments_lexer": "ipython3",
   "version": "3.8.5-final"
  },
  "orig_nbformat": 2,
  "kernelspec": {
   "name": "python3",
   "display_name": "Python 3",
   "language": "python"
  }
 },
 "nbformat": 4,
 "nbformat_minor": 2,
 "cells": [
  {
   "source": [
    "#  U.S. High School Schools analysis\n",
    "  \n",
    "Welcome to our high school data analysis dashboards.  \n",
    "\n",
    "------\n",
    "    \n",
    "\n",
    "# Dashboards\n",
    "\n",
    "- [Poverty Ratio of School Age Children from 1995 - 2018](03-educationdata-dashboards/poverty_estimates.ipynb) - poverty ratios of school aged children from 1995 - 2018 broken down by State.\n",
    "\n",
    "- [Total revenue 'rev_total' (fed, state, local) for all states by year](03-educationdata-dashboards/finance_load_data.ipynb) - total revenue 'rev_total' (fed, state, local) for all states by year starting at origin\n",
    "\n",
    "\n",
    "\n",
    "\n"
   ],
   "cell_type": "markdown",
   "metadata": {}
  }
 ]
}