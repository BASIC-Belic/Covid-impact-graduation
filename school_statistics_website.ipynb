{
 "metadata": {
  "language_info": {
   "codemirror_mode": {
    "name": "ipython",
    "version": 3
   },
   "file_extension": ".py",
   "mimetype": "text/x-python",
   "name": "python",
   "nbconvert_exporter": "python",
   "pygments_lexer": "ipython3",
   "version": "3.8.5-final"
  },
  "orig_nbformat": 2,
  "kernelspec": {
   "name": "python3",
   "display_name": "Python 3",
   "language": "python"
  }
 },
 "nbformat": 4,
 "nbformat_minor": 2,
 "cells": [
  {
   "source": [
    "#  U.S. High School Schools analysis\n",
    "\n",
    "![bus](school_bus2.jpg )\n",
    "\n",
    "  \n",
    "Welcome to our high school statistics workbooks \n",
    "\n",
    "# Available Charts\n",
    "\n",
    "1. [Poverty Ratio of School Age Children from 1995 - 2018](03-educationdata-dashboards/poverty_estimates.ipynb)\n",
    "\n",
    "**Year:** 2020  \n"
   ],
   "cell_type": "markdown",
   "metadata": {}
  }
 ]
}