{
 "metadata": {
  "language_info": {
   "codemirror_mode": {
    "name": "ipython",
    "version": 3
   },
   "file_extension": ".py",
   "mimetype": "text/x-python",
   "name": "python",
   "nbconvert_exporter": "python",
   "pygments_lexer": "ipython3",
   "version": "3.8.5-final"
  },
  "orig_nbformat": 2,
  "kernelspec": {
   "name": "python3",
   "display_name": "Python 3",
   "language": "python"
  }
 },
 "nbformat": 4,
 "nbformat_minor": 2,
 "cells": [
  {
   "source": [
    "#  U.S. High School Schools analysis\n",
    "  \n",
    "Welcome to our high school data analysis dashboards.  \n",
    "\n",
    "\n",
    "The Philosophy of Bayesian Inference\n",
    "\n",
    "------\n",
    "    \n",
    "> You are a skilled programmer, but bugs still slip into your code. After a particularly difficult implementation of an algorithm, you decide to test your code on a trivial example. It passes. You test the code on a harder problem. It passes once again. And it passes the next, *even more difficult*, test too! You are starting to believe that there may be no bugs in this code...\n",
    "\n",
    "# Dashboards\n",
    "- [Poverty Ratio of School Age Children from 1995 - 2018](03-educationdata-dashboards/poverty_estimates.ipynb) - poverty ratios of school aged children from 1995 - 2018 broken down by State.\n",
    "\n",
    "- [Poverty Ratio of School Age Children from 1995 - 2018](03-educationdata-dashboards/poverty_estimates.ipynb) - poverty ratios of school aged children from 1995 - 2018 broken down by State.\n",
    "\n",
    "- [Poverty Ratio of School Age Children from 1995 - 2018](03-educationdata-dashboards/poverty_estimates.ipynb) - poverty ratios of school aged children from 1995 - 2018 broken down by State.\n",
    "\n",
    "- [Poverty Ratio of School Age Children from 1995 - 2018](03-educationdata-dashboards/poverty_estimates.ipynb) - scatter plots shows the poverty ratios of school aged children from 1995 - 2018 broken down by State.\n",
    "\n",
    "- [Poverty Ratio of School Age Children from 1995 - 2018](03-educationdata-dashboards/poverty_estimates.ipynb) - scatter plots shows the poverty ratios of school aged children from 1995 - 2018 broken down by State.\n",
    "\n",
    "- [Poverty Ratio of School Age Children from 1995 - 2018](03-educationdata-dashboards/poverty_estimates.ipynb) - scatter plots shows the poverty ratios of school aged children from 1995 - 2018 broken down by State.\n",
    "\n",
    "\n"
   ],
   "cell_type": "markdown",
   "metadata": {}
  }
 ]
}