{
 "cells": [
  {
   "cell_type": "code",
   "execution_count": 15,
   "metadata": {},
   "outputs": [
    {
     "data": {
      "text/html": [
       "<div>\n",
       "<style scoped>\n",
       "    .dataframe tbody tr th:only-of-type {\n",
       "        vertical-align: middle;\n",
       "    }\n",
       "\n",
       "    .dataframe tbody tr th {\n",
       "        vertical-align: top;\n",
       "    }\n",
       "\n",
       "    .dataframe thead th {\n",
       "        text-align: right;\n",
       "    }\n",
       "</style>\n",
       "<table border=\"1\" class=\"dataframe\">\n",
       "  <thead>\n",
       "    <tr style=\"text-align: right;\">\n",
       "      <th></th>\n",
       "      <th>Fiscal Year</th>\n",
       "      <th>LEA Entity ID</th>\n",
       "      <th>LEA Name</th>\n",
       "      <th>School Entity ID</th>\n",
       "      <th>School Name</th>\n",
       "      <th>Charter</th>\n",
       "      <th>Subgroup</th>\n",
       "      <th>❖ Dropout Percentage Rate</th>\n",
       "    </tr>\n",
       "  </thead>\n",
       "  <tbody>\n",
       "    <tr>\n",
       "      <th>0</th>\n",
       "      <td>2020</td>\n",
       "      <td>4404</td>\n",
       "      <td>Marana Unified District</td>\n",
       "      <td>5768</td>\n",
       "      <td>A. C. E.</td>\n",
       "      <td>N</td>\n",
       "      <td>All</td>\n",
       "      <td>9.09</td>\n",
       "    </tr>\n",
       "    <tr>\n",
       "      <th>1</th>\n",
       "      <td>2020</td>\n",
       "      <td>4404</td>\n",
       "      <td>Marana Unified District</td>\n",
       "      <td>5768</td>\n",
       "      <td>A. C. E.</td>\n",
       "      <td>N</td>\n",
       "      <td>Asian</td>\n",
       "      <td>*</td>\n",
       "    </tr>\n",
       "    <tr>\n",
       "      <th>2</th>\n",
       "      <td>2020</td>\n",
       "      <td>4404</td>\n",
       "      <td>Marana Unified District</td>\n",
       "      <td>5768</td>\n",
       "      <td>A. C. E.</td>\n",
       "      <td>N</td>\n",
       "      <td>Black/African American</td>\n",
       "      <td>*</td>\n",
       "    </tr>\n",
       "    <tr>\n",
       "      <th>3</th>\n",
       "      <td>2020</td>\n",
       "      <td>4404</td>\n",
       "      <td>Marana Unified District</td>\n",
       "      <td>5768</td>\n",
       "      <td>A. C. E.</td>\n",
       "      <td>N</td>\n",
       "      <td>ELL Cohort</td>\n",
       "      <td>*</td>\n",
       "    </tr>\n",
       "    <tr>\n",
       "      <th>4</th>\n",
       "      <td>2020</td>\n",
       "      <td>4404</td>\n",
       "      <td>Marana Unified District</td>\n",
       "      <td>5768</td>\n",
       "      <td>A. C. E.</td>\n",
       "      <td>N</td>\n",
       "      <td>Female</td>\n",
       "      <td>*</td>\n",
       "    </tr>\n",
       "  </tbody>\n",
       "</table>\n",
       "</div>"
      ],
      "text/plain": [
       "   Fiscal Year  LEA Entity ID                 LEA Name  School Entity ID  \\\n",
       "0         2020           4404  Marana Unified District              5768   \n",
       "1         2020           4404  Marana Unified District              5768   \n",
       "2         2020           4404  Marana Unified District              5768   \n",
       "3         2020           4404  Marana Unified District              5768   \n",
       "4         2020           4404  Marana Unified District              5768   \n",
       "\n",
       "  School Name Charter                Subgroup ❖ Dropout Percentage Rate  \n",
       "0    A. C. E.       N                     All                      9.09  \n",
       "1    A. C. E.       N                   Asian                         *  \n",
       "2    A. C. E.       N  Black/African American                         *  \n",
       "3    A. C. E.       N              ELL Cohort                         *  \n",
       "4    A. C. E.       N                  Female                         *  "
      ]
     },
     "execution_count": 15,
     "metadata": {},
     "output_type": "execute_result"
    }
   ],
   "source": [
    "import pandas as pd\n",
    "import glob\n",
    "import os\n",
    "\n",
    "az_droput_rates = pd.read_csv(\"data/az_2020_dropout_rate_analysis.csv\")\n",
    "df = az_droput_rates \n",
    "df.head()\n"
   ]
  },
  {
   "cell_type": "code",
   "execution_count": 16,
   "metadata": {},
   "outputs": [
    {
     "name": "stdout",
     "output_type": "stream",
     "text": [
      "Unique schools ['A. C. E.' 'AAEC - Paradise Valley' 'AAEC - SMCC Campus' ...,\n",
      " 'Yuma High School' 'Yuma Online Distance Academy'\n",
      " 'Zuni Hills Elementary School']\n",
      "Unique subgroups ['All' 'Asian' 'Black/African American' 'ELL Cohort' 'Female'\n",
      " 'Foster Care Cohort' 'Hispanic or Latino' 'Homeless Cohort'\n",
      " 'Income Eligibility 1 and 2' 'Male' 'Migrant Cohort' 'Military Cohort'\n",
      " 'Students With Disabilities' 'White' 'American Indian or Alaska Native'\n",
      " 'Multiple Races' 'Native Hawaiian or Pacific Islander']\n"
     ]
    }
   ],
   "source": [
    "# print school names and subgroups\n",
    "az_school_name = df['School Name'].unique()\n",
    "print(\"Unique schools\", az_school_name)\n",
    "az_school_subgroup = df['Subgroup'].unique()\n",
    "print(\"Unique subgroups\", az_school_subgroup)\n"
   ]
  },
  {
   "cell_type": "code",
   "execution_count": 23,
   "metadata": {},
   "outputs": [
    {
     "name": "stdout",
     "output_type": "stream",
     "text": [
      "Arizona High Schools 1253\n",
      "Arizona Subgroups 17\n"
     ]
    }
   ],
   "source": [
    "# getting the number of unique values for school names \n",
    "az_schools = len(pd.unique(df['School Name']))\n",
    "print('Arizona High Schools', az_schools)\n",
    "# getting the number of unique values for groups\n",
    "az_schools = len(pd.unique(df['Subgroup']))\n",
    "print('Arizona Subgroups', az_schools)"
   ]
  },
  {
   "cell_type": "code",
   "execution_count": null,
   "metadata": {},
   "outputs": [],
   "source": []
  },
  {
   "cell_type": "code",
   "execution_count": null,
   "metadata": {},
   "outputs": [],
   "source": []
  }
 ],
 "metadata": {
  "kernelspec": {
   "display_name": "Python 3",
   "language": "python",
   "name": "python3"
  },
  "language_info": {
   "codemirror_mode": {
    "name": "ipython",
    "version": 3
   },
   "file_extension": ".py",
   "mimetype": "text/x-python",
   "name": "python",
   "nbconvert_exporter": "python",
   "pygments_lexer": "ipython3",
   "version": "3.6.7"
  }
 },
 "nbformat": 4,
 "nbformat_minor": 2
}
